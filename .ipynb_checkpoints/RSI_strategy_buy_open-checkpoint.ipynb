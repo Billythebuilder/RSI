{
 "cells": [
  {
   "cell_type": "code",
   "execution_count": 1,
   "metadata": {},
   "outputs": [],
   "source": [
    "#import libraries\n",
    "import yfinance as yf\n",
    "import numpy as np\n",
    "from matplotlib import pyplot as plt\n",
    "import datetime\n",
    "import pandas as pd\n",
    "%matplotlib inline"
   ]
  },
  {
   "cell_type": "code",
   "execution_count": 2,
   "metadata": {},
   "outputs": [],
   "source": [
    "#define date range\n",
    "start = datetime.datetime(1990, 1, 1)\n",
    "end = datetime.datetime(2024, 9, 17)\n",
    "years = (end - start).days / 365.25"
   ]
  },
  {
   "cell_type": "code",
   "execution_count": 14,
   "metadata": {},
   "outputs": [],
   "source": [
    "#define starting variables\n",
    "symbols = [\"^GSPC\"]\n",
    "systems = [\"RSI\", \"BuyHold\"]\n",
    "starting_balance = 10000\n",
    "slow_ma = 200\n",
    "fast_ma = 5\n",
    "rsi_period = 2\n",
    "rsi_thresh = 5"
   ]
  },
  {
   "cell_type": "code",
   "execution_count": 4,
   "metadata": {},
   "outputs": [],
   "source": [
    "# https://stackoverflow.com/questions/57006437/calculate-rsi-indicator-from-pandas-dataframe\n",
    "def rma(x, n):\n",
    "    #Running moving average\n",
    "    a = np.full_like(x, np.nan)\n",
    "    a[n] = x[1:n+1].mean()\n",
    "    for i in range(n+1, len(x)):\n",
    "        a[i] = (a[i-1] * (n - 1) + x[i]) / n\n",
    "    return a"
   ]
  },
  {
   "cell_type": "code",
   "execution_count": 5,
   "metadata": {},
   "outputs": [],
   "source": [
    "def calculate_inputs(df, s):\n",
    "    #calculate inputs required for system\n",
    "    \n",
    "    #calculate moving averages\n",
    "    df[\"Fast_MA\"] = df.Close.rolling(window = fast_ma).mean()\n",
    "    df[\"Slow_MA\"] = df.Close.rolling(window = slow_ma).mean()\n",
    "    \n",
    "    #daily change\n",
    "    df[\"Change\"] = df.Close.diff()\n",
    "    #separate into up and down days\n",
    "    df[\"Gain\"] = df.Change.clip(lower = 0)\n",
    "    df[\"Loss\"] = -1 * df.Change.clip(upper = 0)\n",
    "    \n",
    "    #average gains with EMA smoothing (Wilder)\n",
    "    df[f\"{s}Avg_Gain\"] = rma(df.Gain.to_numpy(), rsi_period)\n",
    "    df[f\"{s}Avg_Loss\"] = rma(df.Loss.to_numpy(), rsi_period)\n",
    "    \n",
    "    #relative strength\n",
    "    df[f\"{s}RS\"] = df[f\"{s}Avg_Gain\"] / df[f\"{s}Avg_Loss\"]\n",
    "    \n",
    "    #RSI\n",
    "    df[f\"{s}RSI\"] = 100 - (100 / (1 + df[f\"{s}RS\"]))\n",
    "    \n",
    "    return df"
   ]
  },
  {
   "cell_type": "code",
   "execution_count": 6,
   "metadata": {},
   "outputs": [],
   "source": [
    "def generate_signals(df, s):\n",
    "    #generate entries and exits\n",
    "    if s == \"BuyHold\":\n",
    "        df[f\"{s}_Signal\"] = True\n",
    "    else:\n",
    "        #entry is taken at the open. Signal is generated today based on yesterday's conditions\n",
    "        df[f\"{s}_Signal\"] = (df[f\"{s}RSI\"].shift(1) < rsi_thresh) & (df.Close.shift(1) > df.Slow_MA.shift(1))\n",
    "\n",
    "    #exit is taken at the close\n",
    "    #second part is a stop loss\n",
    "    df[f\"{s}_Exit\"] = (df.Close > df.Fast_MA)# | (df.Close < df.Slow_MA)\n",
    "    \n",
    "    return df"
   ]
  },
  {
   "cell_type": "code",
   "execution_count": 7,
   "metadata": {},
   "outputs": [],
   "source": [
    "def generate_trades(df, s):\n",
    "    if s == \"BuyHold\":\n",
    "        #calculate benchmark return and balance\n",
    "        df[f\"{s}_Trade\"] = True\n",
    "        df[f\"{s}_In_Market\"] = True\n",
    "        df[f\"{s}_Ret\"] = df.Close / df.Close.shift(1)\n",
    "        df[f\"{s}_Ret\"].iat[0] = 1\n",
    "        df[f\"{s}_Bal\"] = starting_balance * df[f\"{s}_Ret\"].cumprod()\n",
    "        df[f\"{s}_Running_Bal\"] = df[f\"{s}_Bal\"]\n",
    "        df[f\"{s}_Entry_Price\"] = df.Close\n",
    "    else:\n",
    "        #create empty list for trades\n",
    "        trades_list = []\n",
    "        trade_open = False\n",
    "        open_change = {}\n",
    "        \n",
    "        #iterate through rows to work out entries and exits\n",
    "        for i, row in df.iterrows():\n",
    "            #if there is currently no trade\n",
    "            if trade_open == False:\n",
    "                #check if long signal was generated at the close and enter at the same time\n",
    "                if row[f\"{s}_Signal\"] == True:\n",
    "                    entry_date = i\n",
    "                    entry_price = row.Open\n",
    "                    trade_open = True\n",
    "            #check if a trade is already open\n",
    "            if trade_open == True:\n",
    "                #check if an exit signal has been generated on today's close and sell shares\n",
    "                if row[f\"{s}_Exit\"] == True:\n",
    "                    exit_date = i\n",
    "                    exit_price = row.Close\n",
    "                    trade_open = False\n",
    "                    #store trade data in a list\n",
    "                    trade = [entry_date, entry_price, exit_date, exit_price, True]\n",
    "                    #append trade to overall trade list\n",
    "                    trades_list.append(trade)\n",
    "                else:\n",
    "                    #otherwise track the open change while the trade is open to monitor balance during the trade.\n",
    "                    open_change[i] = row.Low / entry_price\n",
    "                    \n",
    "        trades = pd.DataFrame(trades_list, columns = [\"Entry_Date\", \"Entry_Price\", \"Exit_Date\", \"Exit_Price\", \"Sys_Trade\"])\n",
    "        \n",
    "        #calculate return of each trade as well as the trade duration\n",
    "        trades[f\"{s}_Return\"] = trades.Exit_Price / trades.Entry_Price\n",
    "        dur = []\n",
    "        for i, row in trades.iterrows():\n",
    "            d1 = row.Entry_Date\n",
    "            d2 = row.Exit_Date\n",
    "            dur.append(np.busday_count(d1.date(), d2.date()) + 1)#Add 1 because formula doesn't include the end date otherwise\n",
    "        \n",
    "        trades[f\"{s}_Duration\"] = dur\n",
    "    \n",
    "        #create a new dataframe with an index of exit dfs\n",
    "        returns = pd.DataFrame(index = trades.Exit_Date)\n",
    "        #create a new dataframe with an index of entries to track entry price\n",
    "        entries = pd.DataFrame(index = trades.Entry_Date)\n",
    "\n",
    "        entries[f\"{s}_Entry_Price\"] = pd.Series(trades.Entry_Price).values\n",
    "        #add the Return column to this new data frame\n",
    "        returns[f\"{s}_Ret\"] = pd.Series(trades[f\"{s}_Return\"]).values\n",
    "        returns[f\"{s}_Trade\"] = pd.Series(trades.Sys_Trade).values\n",
    "        returns[f\"{s}_Duration\"] = pd.Series(trades[f\"{s}_Duration\"]).values\n",
    "        change_ser = pd.Series(open_change, name=f\"{s}_Change\")\n",
    "    \n",
    "        #add the returns from the trades to the main data frame\n",
    "        df = pd.concat([df, returns, entries, change_ser], axis = 1)\n",
    "        #fill all the NaN return values with 1 as there was no profit or loss on those days\n",
    "        df[f\"{s}_Ret\"] = df[f\"{s}_Ret\"].fillna(1)\n",
    "        #fill all the NaN trade values with False as there was no trade on those days\n",
    "        df[f\"{s}_Trade\"] = df[f\"{s}_Trade\"].infer_objects(copy=False)\n",
    "        #fill all the NaN return values with 1 as there was no loss on those days\n",
    "        df[f\"{s}_Change\"] = df[f\"{s}_Change\"].fillna(1)\n",
    "        \n",
    "        #calculate system balance\n",
    "        df[f\"{s}_Bal\"] = starting_balance * df[f\"{s}_Ret\"].cumprod()\n",
    "        #calculate the running balance\n",
    "        df[f\"{s}_Running_Bal\"] = df[f\"{s}_Bal\"] * df[f\"{s}_Change\"]\n",
    "    \n",
    "        active_trades = np.where(df[f\"{s}_Trade\"] == True, True, False)\n",
    "        df[f\"{s}_In_Market\"] = df[f\"{s}_Trade\"].copy()\n",
    "        #populate trades column based on duration\n",
    "        for count, t in enumerate(active_trades):\n",
    "            if t == True:\n",
    "                dur = df[f\"{s}_Duration\"].iat[count]\n",
    "                for i in range(int(dur)):\n",
    "                    #starting from the exit date, move backwards and mark each trading day\n",
    "                    df[f\"{s}_In_Market\"].iat[count - i] = True\n",
    "    \n",
    "    return df"
   ]
  },
  {
   "cell_type": "code",
   "execution_count": 8,
   "metadata": {},
   "outputs": [],
   "source": [
    "def backtest(symbol):\n",
    "    #download data\n",
    "    price = yf.download(symbol, start, end)\n",
    "    \n",
    "    #drop redundant columns\n",
    "    price = price.drop([\"Volume\", \"Adj Close\"], axis=1)\n",
    "\n",
    "    for s in systems:\n",
    "        #calculate strategy inputs\n",
    "        price = calculate_inputs(price, s)\n",
    "        #generate signals\n",
    "        price = generate_signals(price, s)\n",
    "        #generate trades\n",
    "        price = generate_trades(price, s)\n",
    "\n",
    "    for s in systems:\n",
    "        #calculate drawdown\n",
    "        price[f\"{s}_Peak\"] = price[f\"{s}_Bal\"].cummax()\n",
    "        price[f\"{s}_DD\"] = price[f\"{s}_Bal\"] - price[f\"{s}_Peak\"]\n",
    "        price[f\"{s}_Running_DD\"] = price[f\"{s}_Running_Bal\"] - price[f\"{s}_Peak\"]\n",
    "\n",
    "    return price"
   ]
  },
  {
   "cell_type": "code",
   "execution_count": 9,
   "metadata": {},
   "outputs": [
    {
     "name": "stderr",
     "output_type": "stream",
     "text": [
      "[*********************100%%**********************]  1 of 1 completed\n"
     ]
    }
   ],
   "source": [
    "results = []\n",
    "for sym in symbols:\n",
    "    result = backtest(sym)\n",
    "    results.append(result)"
   ]
  },
  {
   "cell_type": "code",
   "execution_count": 10,
   "metadata": {},
   "outputs": [],
   "source": [
    "#calculate metrics\n",
    "def get_metrics(system, data):\n",
    "    metrics = {}\n",
    "    sys_return = round(((data[f\"{system}_Bal\"].iloc[-1]/data[f\"{system}_Bal\"].iloc[0]) - 1) * 100, 2)\n",
    "    sys_cagr = round(((((data[f\"{system}_Bal\"].iloc[-1]/data[f\"{system}_Bal\"].iloc[0])**(1/years))-1)*100), 2)\n",
    "    sys_peak = data[f\"{system}_Bal\"].cummax()\n",
    "    sys_dd = round(((data[f\"{system}_DD\"] / data[f\"{system}_Peak\"]).min()) * 100, 2)\n",
    "    rod = sys_cagr / abs(sys_dd)\n",
    "    sys_running_dd = round(((data[f\"{system}_Running_DD\"] / data[f\"{system}_Peak\"]).min()) * 100, 2)\n",
    "    periods_in_market = data[f\"{system}_In_Market\"].sum()\n",
    "    \n",
    "    win = data[f\"{system}_Ret\"] > 1\n",
    "    loss = data[f\"{system}_Ret\"] < 1\n",
    "    signals = data[f\"{system}_Signal\"].sum()\n",
    "    trades_triggered = data[f\"{system}_Trade\"].sum()\n",
    "    tim = round(periods_in_market / len(data) * 100, 2)\n",
    "    rbe = round((sys_cagr / tim) * 100, 2)\n",
    "    rbeod = rbe / abs(sys_dd) # return by exposure by drawdown (assuming drawdown doesn\"t scale as TIM increases. Could be wrong)\n",
    "    gaps = (data.Open > data[f\"{system}_Entry_Price\"]).sum()\n",
    "    non_gaps = (data.Open <= data[f\"{system}_Entry_Price\"]).sum()\n",
    "    wins = win.sum()\n",
    "    losses = loss.sum()\n",
    "    winrate = round(wins / (wins + losses) * 100, 2)\n",
    "    \n",
    "    # calculate the size of the move from the entry data to the close\n",
    "    ret_size = np.where(data[f\"{system}_Trade\"] == True, data[f\"{system}_Ret\"], 1)\n",
    "    avg_up_move = (data[f\"{system}_Ret\"][data[f\"{system}_Ret\"] > 1].mean() - 1) * 100\n",
    "    max_up_move = (data[f\"{system}_Ret\"].max() - 1) * 100\n",
    "    avg_down_move = (data[f\"{system}_Ret\"][data[f\"{system}_Ret\"] < 1].mean() - 1) * 100\n",
    "    max_down_move = (data[f\"{system}_Ret\"].min() - 1) * 100\n",
    "    avg_rr = round(abs(avg_up_move / avg_down_move), 2)\n",
    "\n",
    "    #save data\n",
    "    metrics[\"Start_Balance\"] = round(data[f\"{system}_Bal\"].iat[0], 2)\n",
    "    metrics[\"Final_Balance\"] = round(data[f\"{system}_Bal\"].iat[-1], 2)\n",
    "    metrics[\"Total_Return\"] = round(sys_return, 2)\n",
    "    metrics[\"Annual_Return\"] = round(sys_cagr, 2)\n",
    "    metrics[\"Time_in_Market\"] = round(tim, 2)\n",
    "    metrics[\"Return_By_Exposure\"] = rbe\n",
    "    metrics[\"Max_Drawdown\"] = round(sys_dd, 2)\n",
    "    metrics[\"Max_Running_Drawdown\"] = round(sys_running_dd, 2)\n",
    "    metrics[\"Return_Over_Drawdown\"] = round(rod, 2)\n",
    "    metrics[\"RBE_Over_Drawdown\"] = round(rbeod, 2)\n",
    "    metrics[\"Signals\"] = round(signals, 2)\n",
    "    metrics[\"Trades\"] = round(trades_triggered, 2)\n",
    "    \n",
    "    metrics[\"Gap\"] = round(gaps)\n",
    "    metrics[\"No_Gap\"] = round(non_gaps)\n",
    "    metrics[\"Wins\"] = round(wins, 2)\n",
    "    metrics[\"Losses\"] = round(losses, 2)\n",
    "    metrics[\"Winrate\"] = round(winrate, 2)\n",
    "    metrics[\"Max_Trade_Return_pct\"] = round(max_up_move, 2)\n",
    "    metrics[\"Max_Trade_Loss_pct\"] = round(max_down_move, 2)\n",
    "    metrics[\"Avg_Trade_Return_pct\"] = round(avg_up_move, 2)\n",
    "    metrics[\"Avg_Trade_Loss_pct\"] = round(avg_down_move, 2)\n",
    "    metrics[\"Avg_RR\"] = avg_rr\n",
    "    \n",
    "    return metrics"
   ]
  },
  {
   "cell_type": "code",
   "execution_count": 11,
   "metadata": {
    "jupyter": {
     "source_hidden": true
    }
   },
   "outputs": [],
   "source": [
    "full_metrics = {}\n",
    "for count, res in enumerate(results):\n",
    "    sys_metrics = {}\n",
    "    for s in systems:\n",
    "        sys_metrics.update({s: get_metrics(s, res)})\n",
    "    sys_metrics_df = pd.DataFrame.from_dict(sys_metrics)\n",
    "    full_metrics.update({symbols[count]: sys_metrics_df})"
   ]
  },
  {
   "cell_type": "code",
   "execution_count": 12,
   "metadata": {},
   "outputs": [
    {
     "data": {
      "image/png": "[encoded data removed]",
      "text/plain": [
       "<Figure size 1600x800 with 1 Axes>"
      ]
     },
     "metadata": {},
     "output_type": "display_data"
    }
   ],
   "source": [
    "plt.style.use(\"dark_background\")\n",
    "plt.rcParams[\"figure.figsize\"] = (16,8)\n",
    "plt.rcParams.update({\"font.size\": 18})\n",
    "\n",
    "colours = [\"tab:olive\", \"tab:blue\", \"tab:purple\", \"tab:orange\"]\n",
    "\n",
    "for count, sym in enumerate(symbols):\n",
    "    plt.figure()\n",
    "    plt.title(sym)\n",
    "    for c, s in enumerate(systems):\n",
    "        plt.plot(results[count][f\"{s}_Bal\"], colours[c])\n",
    "\n",
    "plt.legend(systems)\n",
    "plt.show()"
   ]
  },
  {
   "cell_type": "code",
   "execution_count": 13,
   "metadata": {},
   "outputs": [
    {
     "name": "stdout",
     "output_type": "stream",
     "text": [
      "^GSPC\n",
      "                           RSI\n",
      "Start_Balance         10000.00\n",
      "Final_Balance         25945.33\n",
      "Total_Return            159.45\n",
      "Annual_Return             2.78\n",
      "Time_in_Market            5.82\n",
      "Return_By_Exposure       47.77\n",
      "Max_Drawdown            -11.81\n",
      "Max_Running_Drawdown    -15.58\n",
      "Return_Over_Drawdown      0.24\n",
      "RBE_Over_Drawdown         4.04\n",
      "Signals                 235.00\n",
      "Trades                  146.00\n",
      "Gap                       0.00\n",
      "No_Gap                  146.00\n",
      "Wins                    119.00\n",
      "Losses                   27.00\n",
      "Winrate                  81.51\n",
      "Max_Trade_Return_pct      4.29\n",
      "Max_Trade_Loss_pct      -10.13\n",
      "Avg_Trade_Return_pct      1.18\n",
      "Avg_Trade_Loss_pct       -1.59\n",
      "Avg_RR                    0.74\n"
     ]
    }
   ],
   "source": [
    "for m in full_metrics:\n",
    "    print(m)\n",
    "    print(full_metrics[m])"
   ]
  }
 ],
 "metadata": {
  "kernelspec": {
   "display_name": "Python 3 (ipykernel)",
   "language": "python",
   "name": "python3"
  },
  "language_info": {
   "codemirror_mode": {
    "name": "ipython",
    "version": 3
   },
   "file_extension": ".py",
   "mimetype": "text/x-python",
   "name": "python",
   "nbconvert_exporter": "python",
   "pygments_lexer": "ipython3",
   "version": "3.10.4"
  }
 },
 "nbformat": 4,
 "nbformat_minor": 4
}
