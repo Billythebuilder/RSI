{
 "cells": [
  {
   "cell_type": "code",
   "execution_count": 1,
   "metadata": {},
   "outputs": [],
   "source": [
    "#import libraries\n",
    "import yfinance as yf\n",
    "import numpy as np\n",
    "from matplotlib import pyplot as plt\n",
    "import datetime\n",
    "import pandas as pd\n",
    "from IPython.display import display, clear_output\n",
    "import time"
   ]
  },
  {
   "cell_type": "code",
   "execution_count": 2,
   "metadata": {},
   "outputs": [],
   "source": [
    "#define date range\n",
    "start = datetime.datetime(1990, 1, 1)\n",
    "end = datetime.datetime(2021, 5, 31)\n",
    "years = (end - start).days / 365.25"
   ]
  },
  {
   "cell_type": "code",
   "execution_count": 3,
   "metadata": {},
   "outputs": [],
   "source": [
    "#define starting variables\n",
    "symbols = [\"^GSPC\"]\n",
    "systems = [\"RSI\"]\n",
    "starting_balance = 10000\n",
    "slow_ma = 200\n",
    "fast_ma = 5\n",
    "rsi_periods = [2]\n",
    "#rsi_periods.extend(range(2, 50, 2))\n",
    "rsi_thresholds = [5]\n",
    "#rsi_thresholds.extend(range(5, 40, 2))"
   ]
  },
  {
   "cell_type": "code",
   "execution_count": 4,
   "metadata": {},
   "outputs": [],
   "source": [
    "def get_price_data(symbol):\n",
    "    #download data\n",
    "    price = yf.download(symbol, start, end, progress = False)\n",
    "    \n",
    "    #drop redundant columns\n",
    "    price = price.drop([\"Volume\", \"Adj Close\"], axis=1)\n",
    "    \n",
    "    return price"
   ]
  },
  {
   "cell_type": "code",
   "execution_count": 5,
   "metadata": {
    "jupyter": {
     "source_hidden": true
    }
   },
   "outputs": [],
   "source": [
    "def calculate_inputs(df, s, rsi_period):\n",
    "    #calculate inputs required for system\n",
    "    \n",
    "    #calculate moving averages\n",
    "    df[\"Fast_MA\"] = df.Close.rolling(window = fast_ma).mean()\n",
    "    df[\"Slow_MA\"] = df.Close.rolling(window = slow_ma).mean()\n",
    "    \n",
    "    #daily change\n",
    "    df[\"Change\"] = df.Close.diff()\n",
    "    #separate into up and down days\n",
    "    df[\"Gain\"] = df.Change.clip(lower = 0)\n",
    "    df[\"Loss\"] = -1 * df.Change.clip(upper = 0)\n",
    "    \n",
    "    #average gains with EMA smoothing (Wilder)\n",
    "    df[f\"{s}Avg_Gain\"] = ((df.Gain.shift(1) * (rsi_period - 1)) + df.Gain) / rsi_period\n",
    "    df[f\"{s}Avg_Loss\"] = ((df.Loss.shift(1) * (rsi_period - 1)) + df.Loss) / rsi_period\n",
    "    \n",
    "    #relative strength\n",
    "    df[f\"{s}RS\"] = df[f\"{s}Avg_Gain\"] / df[f\"{s}Avg_Loss\"]\n",
    "    \n",
    "    #RSI\n",
    "    df[f\"{s}RSI\"] = 100 - (100 / (1 + df[f\"{s}RS\"]))\n",
    "    \n",
    "    return df"
   ]
  },
  {
   "cell_type": "code",
   "execution_count": 6,
   "metadata": {},
   "outputs": [],
   "source": [
    "def generate_signals(df, s, rsi_thresh):\n",
    "    #generate entries and exits\n",
    "    if s == \"BuyHold\":\n",
    "        df[f\"{s}_Signal\"] = True\n",
    "    else:\n",
    "        #entry is taken at the close\n",
    "        df[f\"{s}_Signal\"] = (df[f\"{s}RSI\"] < rsi_thresh) & (df.Close > df.Slow_MA)\n",
    "\n",
    "    #Connor exit strategy\n",
    "    #df[f\"{s}_Exit\"] = (df.Close > df.Fast_MA)\n",
    "\n",
    "    #Connor exit with a stop loss\n",
    "    df[f\"{s}_Exit\"] = (df.Close > df.Fast_MA) | (price.Close < price.Slow_MA)\n",
    "    \n",
    "    #one day hold so exit is always true\n",
    "    #df[f\"{s}_Exit\"] = True\n",
    "    \n",
    "    return df"
   ]
  },
  {
   "cell_type": "code",
   "execution_count": 7,
   "metadata": {},
   "outputs": [],
   "source": [
    "def generate_trades(df, s):\n",
    "    if s == \"BuyHold\":\n",
    "        #calculate benchmark return and balance\n",
    "        df[f\"{s}_Trade\"] = True\n",
    "        df[f\"{s}_Ret\"] = df.Close / df.Close.shift(1)\n",
    "        df[f\"{s}_Ret\"].iat[0] = 1\n",
    "        df[f\"{s}_Bal\"] = starting_balance * df[f\"{s}_Ret\"].cumprod()\n",
    "    else:\n",
    "        #create empty list for trades\n",
    "        trades_list = []\n",
    "        trade_open = False\n",
    "        \n",
    "        #iterate through rows to work out entries and exits\n",
    "        for i, row in df.iterrows():\n",
    "            #if there is currently no trade\n",
    "            if trade_open == False:\n",
    "                #check if long signal was generated at the close and enter at the same time\n",
    "                if row[f\"{s}_Signal\"] == True:\n",
    "                    entry_date = i\n",
    "                    entry_price = row.Close\n",
    "                    trade_open = True\n",
    "            #check if a trade is already open\n",
    "            elif trade_open == True:\n",
    "                #check if an exit signal has been generated on today\"s close and sell shares\n",
    "                if row[f\"{s}_Exit\"] == True:\n",
    "                    exit_date = i\n",
    "                    exit_price = row.Close\n",
    "                    trade_open = False\n",
    "                    #store trade data in a list\n",
    "                    trade = [entry_date, entry_price, exit_date, exit_price, True]\n",
    "                    #append trade to overall trade list\n",
    "                    trades_list.append(trade)\n",
    "                    \n",
    "        trades = pd.DataFrame(trades_list, columns = [\"Entry_Date\", \"Entry_Price\", \"Exit_Date\", \"Exit_Price\", \"Sys_Trade\"])\n",
    "        \n",
    "        #calculate return of each trade as well as the trade duration\n",
    "        trades[f\"{s}Return\"] = trades.Exit_Price / trades.Entry_Price\n",
    "        dur = []\n",
    "        for i, row in trades.iterrows():\n",
    "            d1 = row.Entry_Date\n",
    "            d2 = row.Exit_Date\n",
    "            dur.append(np.busday_count(d1.date(), d2.date()))\n",
    "        \n",
    "        trades[f\"{s}Duration\"] = dur\n",
    "            \n",
    "        trades.head()\n",
    "    \n",
    "        #create a new dataframe with an index of exit dfs\n",
    "        returns = pd.DataFrame(index = trades.Exit_Date)\n",
    "        \n",
    "        #add the Return column to this new data frame\n",
    "        returns[f\"{s}_Ret\"] = pd.Series(trades[f\"{s}Return\"]).values\n",
    "        returns[f\"{s}_Trade\"] = pd.Series(trades.Sys_Trade).values\n",
    "        returns[f\"{s}Duration\"] = pd.Series(trades[f\"{s}Duration\"]).values\n",
    "    \n",
    "        #add the returns from the trades to the main data frame\n",
    "        df = pd.concat([df, returns], axis = 1)\n",
    "    \n",
    "        #fill all the NaN return values with 1 as there was no profit or loss on those days\n",
    "        df[f\"{s}_Ret\"] = df[f\"{s}_Ret\"].fillna(1)\n",
    "        #fill all the NaN trade values with False as there was no trade on those days\n",
    "        df[f\"{s}_Trade\"] = df[f\"{s}_Trade\"].infer_objects(copy=False)\n",
    "        \n",
    "        #calculate system balance\n",
    "        df[f\"{s}_Bal\"] = starting_balance * df[f\"{s}_Ret\"].cumprod()\n",
    "    \n",
    "        active_trades = np.where(df[f\"{s}_Trade\"] == True, True, False)\n",
    "        #populate trades column based on duration\n",
    "        for count, t in enumerate(active_trades):\n",
    "            if t == True:\n",
    "                dur = df[f\"{s}Duration\"].iat[count]\n",
    "                for i in range(int(dur)):\n",
    "                    #starting from the exit date, move backwards and mark each trading day\n",
    "                    df[f\"{s}_Trade\"].iat[count - i] = True\n",
    "    \n",
    "    return df"
   ]
  },
  {
   "cell_type": "code",
   "execution_count": 8,
   "metadata": {
    "jupyter": {
     "source_hidden": true
    }
   },
   "outputs": [],
   "source": [
    "def backtest(price, p, t):\n",
    "\n",
    "    for s in systems:\n",
    "        #calculate strategy inputs\n",
    "        price = calculate_inputs(price, s, p)\n",
    "        #generate signals\n",
    "        price = generate_signals(price, s, t)\n",
    "        #generate trades\n",
    "        price = generate_trades(price, s)\n",
    "\n",
    "    for s in systems:\n",
    "        #calculate drawdown\n",
    "        price[f\"{s}_Peak\"] = price[f\"{s}_Bal\"].cummax()\n",
    "        price[f\"{s}_DD\"] = price[f\"{s}_Bal\"] - price[f\"{s}_Peak\"]\n",
    "\n",
    "    return price"
   ]
  },
  {
   "cell_type": "code",
   "execution_count": 9,
   "metadata": {},
   "outputs": [],
   "source": [
    "#calculate metrics\n",
    "def get_metrics(system, data):\n",
    "    metrics = {}\n",
    "    sys_return = round(((data[f\"{system}_Bal\"].iloc[-1]/data[f\"{system}_Bal\"].iloc[0]) - 1) * 100, 2)\n",
    "    sys_cagr = round(((((data[f\"{system}_Bal\"].iloc[-1]/data[f\"{system}_Bal\"].iloc[0])**(1/years))-1)*100), 2)\n",
    "    sys_peak = data[f\"{system}_Bal\"].cummax()\n",
    "    sys_dd = round(((data[f\"{system}_DD\"] / data[f\"{system}_Peak\"]).min()) * 100, 2)\n",
    "    rod = sys_cagr / abs(sys_dd)\n",
    " \n",
    "    win = data[f\"{system}_Ret\"] > 1\n",
    "    loss = data[f\"{system}_Ret\"] < 1\n",
    "    signals = data[f\"{system}_Signal\"].sum()\n",
    "    trades_triggered = data[f\"{system}_Trade\"].sum()\n",
    "    tim = round((trades_triggered / len(data)) * 100)\n",
    "    rbe = round((sys_cagr / tim) * 100, 2)\n",
    "    rbeod = rbe / abs(sys_dd) # return by exposure by drawdown (assuming drawdown doesn\"t scale as TIM increases. Could be wrong)\n",
    "    gaps = ((data[f\"{system}_Trade\"] == True) & (data.Open > data.High.shift(1))).sum()\n",
    "    non_gaps = ((data[f\"{system}_Trade\"] == True) & (data.Open <= data.High.shift(1))).sum()\n",
    "    wins = win.sum()\n",
    "    losses = loss.sum()\n",
    "    winrate = round(wins / (wins + losses) * 100, 2)\n",
    "    \n",
    "    # calculate the size of the move from the entry data to the close\n",
    "    ret_size = np.where(data[f\"{system}_Trade\"] == True, data[f\"{system}_Ret\"], 1)\n",
    "    avg_up_move = (data[f\"{system}_Ret\"][data[f\"{system}_Ret\"] > 1].mean() - 1) * 100\n",
    "    max_up_move = (data[f\"{system}_Ret\"].max() - 1) * 100\n",
    "    avg_down_move = (data[f\"{system}_Ret\"][data[f\"{system}_Ret\"] < 1].mean() - 1) * 100\n",
    "    max_down_move = (data[f\"{system}_Ret\"].min() - 1) * 100\n",
    "    avg_rr = round(abs(avg_up_move / avg_down_move), 2)\n",
    "\n",
    "    #save data\n",
    "    metrics[\"Start_Balance\"] = round(data[f\"{system}_Bal\"].iat[0], 2)\n",
    "    metrics[\"Final_Balance\"] = round(data[f\"{system}_Bal\"].iat[-1], 2)\n",
    "    metrics[\"Total_Return\"] = round(sys_return, 2)\n",
    "    metrics[\"Annual_Return\"] = round(sys_cagr, 2)\n",
    "    metrics[\"Time_in_Market\"] = round(tim, 2)\n",
    "    metrics[\"Return_By_Exposure\"] = rbe\n",
    "    metrics[\"Max_Drawdown\"] = round(sys_dd, 2)\n",
    "    metrics[\"Return_Over_Drawdown\"] = round(rod, 2)\n",
    "    metrics[\"RBE_Over_Drawdown\"] = round(rbeod, 2)\n",
    "    metrics[\"Signals\"] = round(signals, 2)\n",
    "    metrics[\"Trades\"] = round(trades_triggered, 2)\n",
    "    \n",
    "    metrics[\"Gap\"] = round(gaps)\n",
    "    metrics[\"No_Gap\"] = round(non_gaps)\n",
    "    metrics[\"Wins\"] = round(wins, 2)\n",
    "    metrics[\"Losses\"] = round(losses, 2)\n",
    "    metrics[\"Winrate\"] = round(winrate, 2)\n",
    "    metrics[\"Max_Trade_Return_pct\"] = round(max_up_move, 2)\n",
    "    metrics[\"Max_Trade_Loss_pct\"] = round(max_down_move, 2)\n",
    "    metrics[\"Avg_Trade_Return_pct\"] = round(avg_up_move, 2)\n",
    "    metrics[\"Avg_Trade_Loss_pct\"] = round(avg_down_move, 2)\n",
    "    metrics[\"Avg_RR\"] = avg_rr\n",
    "    \n",
    "    return metrics"
   ]
  },
  {
   "cell_type": "code",
   "execution_count": 10,
   "metadata": {},
   "outputs": [
    {
     "name": "stdout",
     "output_type": "stream",
     "text": [
      "Progress: 100 %\n",
      "Total Time Elapsed: 0.755488395690918 s\n"
     ]
    }
   ],
   "source": [
    "results = []\n",
    "prog = 0\n",
    "max_prog = len(symbols) * len(rsi_periods) * len(rsi_thresholds)\n",
    "start_time = time.time()\n",
    "for sym in symbols:\n",
    "    price = get_price_data(sym)\n",
    "    for per in rsi_periods:\n",
    "        for th in rsi_thresholds:\n",
    "            result = backtest(price, per, th)\n",
    "            results.append(result)\n",
    "            prog += 1\n",
    "            clear_output(wait=True)\n",
    "            print(f\"Progress: {round((prog / max_prog) * 100)} %\")\n",
    "end_time = time.time()\n",
    "print(f\"Total Time Elapsed: {end_time - start_time} s\")"
   ]
  },
  {
   "cell_type": "code",
   "execution_count": 11,
   "metadata": {},
   "outputs": [],
   "source": [
    "full_metrics = {}\n",
    "for count, res in enumerate(results):\n",
    "    sys_metrics = {}\n",
    "    for s in systems:\n",
    "        sys_metrics.update({s: get_metrics(s, res)})\n",
    "    sys_metrics_df = pd.DataFrame.from_dict(sys_metrics)\n",
    "    full_metrics.update({count: sys_metrics_df})"
   ]
  },
  {
   "cell_type": "code",
   "execution_count": 12,
   "metadata": {},
   "outputs": [],
   "source": [
    "compared_metrics = pd.DataFrame(columns=[\"sys\", \"cagr\", \"tim\", \"rbe\", \"max_dd\", \"rod\", \"rbeod\", \"winrate\", \"rr\"])\n",
    "count = 0\n",
    "for per in rsi_periods:\n",
    "    for th in rsi_thresholds:\n",
    "        data = full_metrics[count]\n",
    "        sys = f\"RSI_Period_{per}_Thresh_{th}\"\n",
    "        cagr = data[systems[0]].loc[\"Annual_Return\"]\n",
    "        tim = data[systems[0]].loc[\"Time_in_Market\"]\n",
    "        rbe = data[systems[0]].loc[\"Return_By_Exposure\"]\n",
    "        max_dd = data[systems[0]].loc[\"Max_Drawdown\"]\n",
    "        rod = data[systems[0]].loc[\"Return_Over_Drawdown\"]\n",
    "        rbeod = data[systems[0]].loc[\"RBE_Over_Drawdown\"]\n",
    "        winrate = data[systems[0]].loc[\"Winrate\"]\n",
    "        rr = data[systems[0]].loc[\"Avg_RR\"]\n",
    "        new_row = [sys, cagr, tim, rbe, max_dd, rod, rbeod, winrate, rr]\n",
    "        compared_metrics.loc[len(compared_metrics)] = new_row\n",
    "        count += 1"
   ]
  },
  {
   "cell_type": "code",
   "execution_count": 13,
   "metadata": {},
   "outputs": [
    {
     "data": {
      "text/html": [
       "<div>\n",
       "<style scoped>\n",
       "    .dataframe tbody tr th:only-of-type {\n",
       "        vertical-align: middle;\n",
       "    }\n",
       "\n",
       "    .dataframe tbody tr th {\n",
       "        vertical-align: top;\n",
       "    }\n",
       "\n",
       "    .dataframe thead th {\n",
       "        text-align: right;\n",
       "    }\n",
       "</style>\n",
       "<table border=\"1\" class=\"dataframe\">\n",
       "  <thead>\n",
       "    <tr style=\"text-align: right;\">\n",
       "      <th></th>\n",
       "      <th>sys</th>\n",
       "      <th>cagr</th>\n",
       "      <th>tim</th>\n",
       "      <th>rbe</th>\n",
       "      <th>max_dd</th>\n",
       "      <th>rod</th>\n",
       "      <th>rbeod</th>\n",
       "      <th>winrate</th>\n",
       "      <th>rr</th>\n",
       "    </tr>\n",
       "  </thead>\n",
       "  <tbody>\n",
       "    <tr>\n",
       "      <th>0</th>\n",
       "      <td>RSI_Period_2_Thresh_5</td>\n",
       "      <td>2.97</td>\n",
       "      <td>23.0</td>\n",
       "      <td>12.91</td>\n",
       "      <td>-24.68</td>\n",
       "      <td>0.12</td>\n",
       "      <td>0.52</td>\n",
       "      <td>71.12</td>\n",
       "      <td>0.58</td>\n",
       "    </tr>\n",
       "  </tbody>\n",
       "</table>\n",
       "</div>"
      ],
      "text/plain": [
       "                     sys  cagr   tim    rbe  max_dd   rod  rbeod  winrate  \\\n",
       "0  RSI_Period_2_Thresh_5  2.97  23.0  12.91  -24.68  0.12   0.52    71.12   \n",
       "\n",
       "     rr  \n",
       "0  0.58  "
      ]
     },
     "execution_count": 13,
     "metadata": {},
     "output_type": "execute_result"
    }
   ],
   "source": [
    "pd.set_option('display.max_rows', None)\n",
    "compared_metrics"
   ]
  },
  {
   "cell_type": "code",
   "execution_count": 14,
   "metadata": {},
   "outputs": [
    {
     "data": {
      "image/png": "[encoded data removed]",
      "text/plain": [
       "<Figure size 1600x800 with 1 Axes>"
      ]
     },
     "metadata": {},
     "output_type": "display_data"
    }
   ],
   "source": [
    "plt.style.use(\"dark_background\")\n",
    "plt.rcParams[\"figure.figsize\"] = (16,8)\n",
    "plt.rcParams.update({\"font.size\": 10})\n",
    "\n",
    "colours = [\"tab:olive\", \"tab:blue\", \"tab:purple\", \"tab:orange\"]\n",
    "\n",
    "plt.xticks(rotation=90)\n",
    "plt.plot(compared_metrics[\"sys\"], compared_metrics[\"rbe\"])\n",
    "\n",
    "plt.legend(systems)\n",
    "plt.show()"
   ]
  },
  {
   "cell_type": "code",
   "execution_count": 15,
   "metadata": {},
   "outputs": [],
   "source": [
    "# for m in full_metrics:\n",
    "#     print(m)\n",
    "#     print(full_metrics[m])"
   ]
  },
  {
   "cell_type": "code",
   "execution_count": null,
   "metadata": {},
   "outputs": [],
   "source": []
  }
 ],
 "metadata": {
  "kernelspec": {
   "display_name": "Python 3 (ipykernel)",
   "language": "python",
   "name": "python3"
  },
  "language_info": {
   "codemirror_mode": {
    "name": "ipython",
    "version": 3
   },
   "file_extension": ".py",
   "mimetype": "text/x-python",
   "name": "python",
   "nbconvert_exporter": "python",
   "pygments_lexer": "ipython3",
   "version": "3.9.6"
  }
 },
 "nbformat": 4,
 "nbformat_minor": 4
}
